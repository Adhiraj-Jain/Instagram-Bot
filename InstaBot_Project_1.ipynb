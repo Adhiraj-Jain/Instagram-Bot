{
 "cells": [
  {
   "cell_type": "markdown",
   "metadata": {},
   "source": [
    "# Instagram Bot - Part 1"
   ]
  },
  {
   "cell_type": "markdown",
   "metadata": {},
   "source": [
    "### Table of Contents\n",
    "\n",
    "1. [Introduction](#introduction)\n",
    "2. [Project Objective](#project_objective)\n",
    "3. [Imports](#imports)\n",
    "4. [Login to your Instagram Handle](#login)<br>\n",
    "    a. [Submit with sample username and password](#submit_with_sample_username)\n",
    "5. [Type for “food” in search bar and print all the names of the Instagram Handles that are displayed in list after typing “food”](#q2)\n",
    "6. [Follow/Unfollow given handle - ](#q4)<br>\n",
    "    a. [Open the Instagram Handle of “So Delhi”](#q4_a)<br>\n",
    "    b. [Start following it. Print a message if you are already following](#q4_b)<br>\n",
    "    c. [After following, unfollow the instagram handle. Print a message if you have already unfollowed.](#q4_c)\n",
    "7. [Like/Unlike posts](#q5)<br>\n",
    "    a. [Liking the top 30 posts of the ‘dilsefoodie'. Print message if you have already liked it.](#q5_a)<br>\n",
    "    a. [Unliking the top 30 posts of the ‘dilsefoodie’. Print message if you have already unliked it.](#q5_b)\n",
    "8. [Extract list of followers](#q6)<br>\n",
    "    a. [Extract the usernames of the first 500 followers of ‘foodtalkindia’ and ‘sodelhi’.](#q6_a)<br>\n",
    "    a. [Now print all the followers of “foodtalkindia” that you are following but those who don’t follow you.](#q6_b)\n",
    "9. [Check the story of ‘coding.ninjas’. Consider the following Scenarios and print error messages accordingly -](#q7)"
   ]
  },
  {
   "cell_type": "markdown",
   "metadata": {},
   "source": [
    "# Introduction <a id=\"introduction\"/>"
   ]
  },
  {
   "cell_type": "markdown",
   "metadata": {},
   "source": [
    "The objective of this project is to help a friend follow people on instagram to get famous by applying automation technique and using Selenium, with python version >= 3.6."
   ]
  },
  {
   "cell_type": "markdown",
   "metadata": {},
   "source": [
    "## Project Objective <a id=\"project_objective\"/>"
   ]
  },
  {
   "cell_type": "markdown",
   "metadata": {},
   "source": [
    "The aim of this project is to help friend who wants to be a Food Blogger, by helping him follow a lot of people so that he can get noticed quickly, the task will be achieved with an automation technique using Selenium, by creating an Instagram Bot. "
   ]
  },
  {
   "cell_type": "markdown",
   "metadata": {},
   "source": [
    "## Imports <a id=\"imports\"/>"
   ]
  },
  {
   "cell_type": "code",
   "execution_count": 398,
   "metadata": {},
   "outputs": [],
   "source": [
    "# importing all libraries\n",
    "from selenium import webdriver\n",
    "from selenium.webdriver.common.keys import Keys\n",
    "from selenium.webdriver.support.ui import WebDriverWait\n",
    "from selenium.webdriver.support import expected_conditions as EC           #using this librabry for explicitly wait\n",
    "from selenium.webdriver.support.ui import Select                           \n",
    "from selenium.webdriver.common.by import By   \n",
    "import math\n",
    "import time"
   ]
  },
  {
   "cell_type": "markdown",
   "metadata": {},
   "source": [
    "## Connection of Chrome Driver"
   ]
  },
  {
   "cell_type": "code",
   "execution_count": 399,
   "metadata": {},
   "outputs": [],
   "source": [
    "driver = webdriver.Chrome(executable_path = '/Users/lenovo/chromedriver')\n",
    "driver.get(\"https://www.instagram.com/\")"
   ]
  },
  {
   "cell_type": "markdown",
   "metadata": {},
   "source": [
    "## Function to perform search operations"
   ]
  },
  {
   "cell_type": "code",
   "execution_count": 400,
   "metadata": {},
   "outputs": [],
   "source": [
    "def search(name):\n",
    "    box = driver.find_element_by_xpath('//input[contains(@class,\"XTCLo x3qfX\")]')\n",
    "    box.send_keys(name)\n",
    "    time.sleep(5)\n",
    "    search = driver.find_element_by_xpath('//a[contains(@class,\"yCE8d\")]')\n",
    "    search.click()"
   ]
  },
  {
   "cell_type": "markdown",
   "metadata": {},
   "source": [
    "## Login to your Instagram Handle <a id=\"login\"/>"
   ]
  },
  {
   "cell_type": "code",
   "execution_count": 401,
   "metadata": {},
   "outputs": [],
   "source": [
    "login = driver.find_element_by_link_text('Log in') # going to login page\n",
    "if login:\n",
    "    login.click()                                  # clicking on it"
   ]
  },
  {
   "cell_type": "markdown",
   "metadata": {},
   "source": [
    "### Submit with sample username and password <a id=\"submit_with_sample_username\"/>"
   ]
  },
  {
   "cell_type": "code",
   "execution_count": 402,
   "metadata": {
    "colab": {},
    "colab_type": "code",
    "id": "cjhYxYr-uLVb"
   },
   "outputs": [],
   "source": [
    "# Entering details and signing in\n",
    "username = driver.find_element_by_name('username')\n",
    "password = driver.find_element_by_name('password')\n",
    "username.send_keys('SAMPLE USERNAME')\n",
    "password.send_keys('SAMPLE PASSWORD')\n",
    "password.submit()"
   ]
  },
  {
   "cell_type": "code",
   "execution_count": 403,
   "metadata": {
    "colab": {},
    "colab_type": "code",
    "id": "xYRkObxUuLVe"
   },
   "outputs": [],
   "source": [
    "# Clicking on the alert popup\n",
    "driver.find_element_by_xpath('//button[contains(@class,\"aOOlW   HoLwm \")]').click()"
   ]
  },
  {
   "cell_type": "markdown",
   "metadata": {},
   "source": [
    "## Type for “food” in search bar and print all the names of the Instagram Handles that are displayed in list after typing “food” <a id=\"q2\"/>"
   ]
  },
  {
   "cell_type": "code",
   "execution_count": 404,
   "metadata": {
    "colab": {},
    "colab_type": "code",
    "id": "wUVvFZEhuLVm",
    "outputId": "d7402e2f-b45b-4974-a38e-92e9519078c3",
    "scrolled": true
   },
   "outputs": [
    {
     "name": "stdout",
     "output_type": "stream",
     "text": [
      "foodtalkindia\n",
      "foodrush.recipe\n",
      "nationfoodies\n",
      "foodpshyco\n",
      "food.darzee\n",
      "yourfoodlab\n",
      "food\n",
      "foodnetwork\n",
      "foodielliciouss\n",
      "foodmaniacindia\n",
      "food_gambler\n",
      "food_lover_journey\n",
      "food_gupshup\n",
      "foodofmumbai\n",
      "foodiesparsh\n",
      "food_lunatic\n",
      "foodiesince96\n",
      "foodcriticintown\n",
      "foodgrambyami\n",
      "foodstoriesbypranavkalra\n",
      "foodandwine\n",
      "foodafouti\n",
      "foodkars\n",
      "foodiebaniya\n",
      "foodie_vakil\n",
      "food_tempta\n",
      "foodguidelines\n",
      "foodie_incarnate\n",
      "foodheaven_recipes\n",
      "food.ternion\n",
      "foodiewithluv\n",
      "foodiearuna\n",
      "kaamna_singh\n",
      "foodiebliss09\n",
      "food_gasmic_famous\n",
      "foodaddaahmedabad\n",
      "meghnasfoodmagic\n",
      "foodstylistbijal\n",
      "foodiee__gabbar\n",
      "foodguidevideos\n",
      "foodisnirvana\n",
      "delhifoodguide\n",
      "foodsile\n",
      "foodchrome\n",
      "foodflashindia\n",
      "healthy.foodyss\n",
      "foodlish_explorers\n",
      "foodiecouple_parvan\n",
      "food2go4\n",
      "foodgramnow\n",
      "fooddrifter\n",
      "foodi3panda\n",
      "food_love_foodie\n",
      "delhi_streets_food\n",
      "thewickedsoul\n",
      "foodfusionpk\n",
      "foodmapdelhi\n",
      "foodhallcookerystudio\n",
      "foodiefrombombay\n",
      "foodtalknoida\n",
      "foodie_anshul\n",
      "foodicted.fellow\n",
      "foodiemoodiebawa\n",
      "thatbigfoodieguy\n",
      "foodconnectindia\n",
      "thisisdelhi\n",
      "foodymoments\n",
      "foodys\n",
      "foodtraveler_jaipur\n",
      "__food.is.life___\n",
      "foody_maniaa\n",
      "foodyoushould\n",
      "foodphilicpune\n",
      "joos.food\n",
      "foodography_mumbai\n",
      "mumbaifoodie\n",
      "foodgod\n",
      "foodiegram_mumbai\n",
      "foodiedilse\n",
      "nepal.food\n",
      "foodietraveller_abhax\n",
      "foodtravelstories\n",
      "foodie_rushil\n",
      "food_travel_insider\n",
      "foodbossindia\n",
      "foodie.dev\n",
      "foodyfixation\n",
      "delhifoodwalks\n",
      "love_food\n",
      "foodbenefits\n",
      "foodie_couple_chd\n",
      "foodofgoa\n",
      "foodies_first_1_\n"
     ]
    }
   ],
   "source": [
    "search_box = driver.find_element_by_xpath('//input[contains(@class,\"XTCLo x3qfX \")]')\n",
    "search_box.send_keys('food')\n",
    "time.sleep(5)\n",
    "insta_handles = driver.find_elements_by_class_name('Ap253')\n",
    "names_of_handles = []\n",
    "for i in insta_handles :\n",
    "    if i.text[0] != '#' :\n",
    "        names_of_handles.append(i.text)\n",
    "        \n",
    "# printing name of instagram handles\n",
    "for ele in names_of_handles:\n",
    "    print(ele)"
   ]
  },
  {
   "cell_type": "code",
   "execution_count": 405,
   "metadata": {},
   "outputs": [],
   "source": [
    "wait = WebDriverWait(driver, 8)\n",
    "a = wait.until(EC.presence_of_element_located((By.XPATH,'//input[contains(@class,\"XTCLo\")]')))    #to clear search box\n",
    "a.clear()"
   ]
  },
  {
   "cell_type": "markdown",
   "metadata": {},
   "source": [
    "## Follow/Unfollow given handle - <a id=\"q4\"/>"
   ]
  },
  {
   "cell_type": "markdown",
   "metadata": {},
   "source": [
    "### Open the Instagram Handle of “So Delhi” <a id=\"q4_a\"/>"
   ]
  },
  {
   "cell_type": "code",
   "execution_count": 406,
   "metadata": {
    "colab": {},
    "colab_type": "code",
    "id": "AnByKGs6uLVh"
   },
   "outputs": [],
   "source": [
    "# Opening Page of So Delhi\n",
    "search('So Delhi')"
   ]
  },
  {
   "cell_type": "markdown",
   "metadata": {},
   "source": [
    "### Start following it. Print a message if you are already following <a id=\"q4_b\"/>"
   ]
  },
  {
   "cell_type": "code",
   "execution_count": 408,
   "metadata": {
    "colab": {},
    "colab_type": "code",
    "id": "tX8ZCQFcuLVw",
    "outputId": "0375e339-5c31-425c-e7d6-9e49ddf75c9a"
   },
   "outputs": [
    {
     "name": "stdout",
     "output_type": "stream",
     "text": [
      "Already Following the Instagram Handle\n"
     ]
    }
   ],
   "source": [
    "so_delhi_follow_check = driver.find_elements_by_xpath('//button[contains(@class,\"-fzfL\")]')\n",
    "if len(so_delhi_follow_check) != 0 :\n",
    "    print('Already Following the Instagram Handle')\n",
    "else :\n",
    "    follow = driver.find_element_by_xpath('//button[contains(@class,\"jIbKX\")]')\n",
    "    follow.click()"
   ]
  },
  {
   "cell_type": "markdown",
   "metadata": {},
   "source": [
    "### After following, unfollow the instagram handle. Print a message if you have already unfollowed. <a id=\"q4_c\"/>"
   ]
  },
  {
   "cell_type": "code",
   "execution_count": 410,
   "metadata": {
    "colab": {},
    "colab_type": "code",
    "id": "kdijuy_fuLVz"
   },
   "outputs": [
    {
     "name": "stdout",
     "output_type": "stream",
     "text": [
      "Already Unfollowed the Instagram Handle\n"
     ]
    }
   ],
   "source": [
    "so_delhi_unfollow_check = driver.find_elements_by_xpath('//button[contains(@class,\"-fzfL\")]')\n",
    "if len(so_delhi_unfollow_check) != 0 :\n",
    "    so_delhi_unfollow_check[0].click()\n",
    "    time.sleep(1)\n",
    "    driver.find_element_by_xpath('//button[contains(@class,\"aOOlW -Cab_   \")]').click()\n",
    "else :\n",
    "    print('Already Unfollowed the Instagram Handle')"
   ]
  },
  {
   "cell_type": "markdown",
   "metadata": {},
   "source": [
    "## Like/Unlike posts <a id=\"q5\"/>"
   ]
  },
  {
   "cell_type": "markdown",
   "metadata": {},
   "source": [
    "### Open the Instagram Handle of “dilsefoodie”"
   ]
  },
  {
   "cell_type": "code",
   "execution_count": 411,
   "metadata": {
    "colab": {},
    "colab_type": "code",
    "id": "MKKuOelFuLWa",
    "outputId": "5e0cc201-55b4-41ac-ceb5-173f2d2ab870"
   },
   "outputs": [],
   "source": [
    "# Opening Page of dilsefoodie\n",
    "search('dilsefoodie')"
   ]
  },
  {
   "cell_type": "markdown",
   "metadata": {},
   "source": [
    "### Liking the top 30 posts of the ‘dilsefoodie'. Print message if you have already liked it. <a id=\"q5_a\"/>"
   ]
  },
  {
   "cell_type": "code",
   "execution_count": 412,
   "metadata": {
    "colab": {},
    "colab_type": "code",
    "id": "hn0-2BCYuLWR"
   },
   "outputs": [
    {
     "name": "stdout",
     "output_type": "stream",
     "text": [
      "Liked all the Posts.\n"
     ]
    }
   ],
   "source": [
    "for i in range(1):\n",
    "        driver.execute_script('window.scrollBy(0,document.body.scrollHeight);')                      # scrolling down. \n",
    "        time.sleep(1)\n",
    "    \n",
    "data = driver.find_elements_by_xpath('//div[contains(@class,\"_9AhH0\")]')                           #fetching the desired data. \n",
    "    \n",
    "for j in range(1):\n",
    "    driver.execute_script('window.scrollBy(0,-document.body.scrollHeight);')                     #scrolling towards Top.\n",
    "    time.sleep(1)\n",
    "    \n",
    "driver.execute_script('window.scrollBy(0,500);')                                                \n",
    "liked = []\n",
    "for i in range(30):\n",
    "    post = driver.find_elements_by_xpath('//div[contains(@class,\"_9AhH0\")]')                       #Extracting the post's data.\n",
    "    driver.execute_script('window.scrollBy(0,75);')          \n",
    " \n",
    "    wait = WebDriverWait(driver, 10)\n",
    "    time.sleep(4)\n",
    "    post[i].click()                                         \n",
    "    \n",
    "    time.sleep(3)\n",
    "    check_like = driver.find_element_by_css_selector('span.fr66n>button>svg')\n",
    "    check = check_like.get_attribute('aria-label')\n",
    "    if check != 'Like':\n",
    "        liked.append('true')\n",
    "    else :\n",
    "        driver.find_element_by_xpath('//span[contains(@class,\"fr66n\")]/button').click()\n",
    "        liked.append('false')\n",
    "                    \n",
    "    close_button = driver.find_element_by_xpath('//button[contains(@class,\"ckWGn\")]')                   \n",
    "    close_button.click()\n",
    "    \n",
    "if 'false' not in liked:\n",
    "    print('Already Liked')\n",
    "else:\n",
    "    print('Liked all the Posts.')"
   ]
  },
  {
   "cell_type": "markdown",
   "metadata": {},
   "source": [
    "#### Refreshing page."
   ]
  },
  {
   "cell_type": "code",
   "execution_count": 413,
   "metadata": {},
   "outputs": [],
   "source": [
    "driver.refresh()"
   ]
  },
  {
   "cell_type": "markdown",
   "metadata": {},
   "source": [
    "### Unliking the top 30 posts of the ‘dilsefoodie’. Print message if you have already unliked it. <a id=\"q5_b\"/>"
   ]
  },
  {
   "cell_type": "code",
   "execution_count": 414,
   "metadata": {
    "colab": {},
    "colab_type": "code",
    "id": "lcVftcfxuLWV"
   },
   "outputs": [
    {
     "name": "stdout",
     "output_type": "stream",
     "text": [
      "Unliked all the Posts.\n"
     ]
    }
   ],
   "source": [
    "# Unliking the first 30 posts\n",
    "for i in range(1):\n",
    "        driver.execute_script('window.scrollBy(0,document.body.scrollHeight);')                      #down scrolling\n",
    "        time.sleep(1)\n",
    "    \n",
    "data = driver.find_elements_by_xpath('//div[contains(@class,\"_9AhH0\")]')                           #fetching the data \n",
    "    \n",
    "for j in range(1):\n",
    "    driver.execute_script('window.scrollBy(0,-document.body.scrollHeight);')                     #up scrolling\n",
    "    time.sleep(1)\n",
    "    \n",
    "driver.execute_script('window.scrollBy(0,500);')                                                \n",
    "unliked = []\n",
    "for i in range(30):\n",
    "    post = driver.find_elements_by_xpath('//div[contains(@class,\"_9AhH0\")]')                       #ftech the post\n",
    "    driver.execute_script('window.scrollBy(0,75);')                                              # scroll by 80\n",
    " \n",
    "    time.sleep(4)\n",
    "    post[i].click()                                                                             #clicking on each post\n",
    "    \n",
    "    time.sleep(3)\n",
    "    check_unlike = driver.find_element_by_css_selector('span.fr66n>button>svg')\n",
    "    check = check_unlike.get_attribute('aria-label')\n",
    "    if check == 'Like':\n",
    "        unliked.append('true')\n",
    "    else :\n",
    "        driver.find_element_by_xpath('//span[contains(@class,\"fr66n\")]/button').click()\n",
    "        unliked.append('false')\n",
    "                    \n",
    "    close_button = driver.find_element_by_xpath('//button[contains(@class,\"ckWGn\")]')                      #close button\n",
    "    close_button.click()\n",
    "    \n",
    "if 'false' not in unliked:\n",
    "    print('Already Unliked')\n",
    "else:\n",
    "    print('Unliked all the Posts.')"
   ]
  },
  {
   "cell_type": "markdown",
   "metadata": {},
   "source": [
    "## Extract list of followers <a id=\"q6\"/>"
   ]
  },
  {
   "cell_type": "markdown",
   "metadata": {},
   "source": [
    "### Extract the usernames of the first 500 followers of ‘foodtalkindia’ and ‘sodelhi’. <a id=\"q6_a\"/>"
   ]
  },
  {
   "cell_type": "code",
   "execution_count": 437,
   "metadata": {
    "colab": {},
    "colab_type": "code",
    "id": "VkqMqSjiuLV1"
   },
   "outputs": [],
   "source": [
    "#Get List of Followers :\n",
    "def followers_list() :\n",
    "   \n",
    "    time.sleep(3)\n",
    "    driver.find_element_by_partial_link_text('followers').click()\n",
    "    time.sleep(3)\n",
    "    start = 0\n",
    "    k = 12\n",
    "    followers = []\n",
    "    while(True) :\n",
    "        if len(followers) > 500 :\n",
    "            break;\n",
    "        elements = driver.find_elements_by_xpath('//a[contains(@class,\"FPmhX\")]')\n",
    "        elements = elements[start:k+1]\n",
    "        for i in elements :\n",
    "            followers.append(i.text)\n",
    "            \n",
    "        st = \"body > div.RnEpo.Yx5HN > div > div.isgrP > ul > div > li:nth-child(\" + str(k) + \")\"\n",
    "        check_exists = driver.find_elements_by_css_selector(st)\n",
    "        if len(check_exists) == 0 :\n",
    "            break\n",
    "        s ='var topPos = document.querySelector(\\\"'+st+'\\\"); topPos.scrollIntoView(false);'\n",
    "        driver.execute_script(s)\n",
    "        start = start + 12\n",
    "        if start == 12 :\n",
    "            start = 13\n",
    "        k = k + 12\n",
    "        time.sleep(1)\n",
    "    driver.back()\n",
    "    return followers"
   ]
  },
  {
   "cell_type": "code",
   "execution_count": 432,
   "metadata": {},
   "outputs": [],
   "source": [
    "# Searching and extracting first 500 usernames of both.\n",
    "search('foodtalkindia')\n",
    "foodtalkindia_followers = followers_list()\n",
    "\n",
    "search('So Delhi')\n",
    "So_Delhi_followers = followers_list()\n",
    "\n",
    "So_Delhi_followers = So_Delhi_followers[:500]\n",
    "foodtalkindia_followers = foodtalkindia_followers[:500]"
   ]
  },
  {
   "cell_type": "markdown",
   "metadata": {},
   "source": [
    "### Now print all the followers of “foodtalkindia” that you are following but those who don’t follow you. <a id=\"q6_b\"/>"
   ]
  },
  {
   "cell_type": "code",
   "execution_count": 443,
   "metadata": {},
   "outputs": [],
   "source": [
    "# A function to find the followers of foodtalkindia which I am following.\n",
    "def mutual_followers():\n",
    "    \n",
    "    time.sleep(3)\n",
    "    mutual = driver.find_element_by_xpath('//a[contains(@class,\"_32eiM\")]')\n",
    "    mutual.click()\n",
    "    time.sleep(3)\n",
    "    see_all = driver.find_element_by_xpath('//div[contains(@class,\"SfPzb\")]//a')\n",
    "    see_all.click()\n",
    "    \n",
    "    time.sleep(3)\n",
    "    start = 0\n",
    "    k = 12\n",
    "    followers = []\n",
    "    flag = False\n",
    "    while(True) :\n",
    "        if flag:\n",
    "            break \n",
    "        elements = driver.find_elements_by_xpath('//a[contains(@class,\"FPmhX\")]')\n",
    "        elements_check = driver.find_elements_by_xpath('//button[contains(@class,\"sqdOP  L3NKy    _8A5w5    \")]')\n",
    "        elements = elements[start:k+1]\n",
    "        elements_check = elements_check[start:k+1]\n",
    "        for i in range(len(elements_check)) :\n",
    "            if elements_check[i].text == 'Following':\n",
    "                followers.append(elements[i].text)\n",
    "            else:\n",
    "                flag = True\n",
    "                break\n",
    "        st = \"body > div.RnEpo.Yx5HN > div > div.isgrP > ul > div > li:nth-child(\" + str(k) + \")\"\n",
    "        check_exists = driver.find_elements_by_css_selector(st)\n",
    "        if len(check_exists) == 0 :\n",
    "            break;\n",
    "        s ='var topPos = document.querySelector(\\\"'+st+'\\\"); topPos.scrollIntoView(false);'\n",
    "        driver.execute_script(s)\n",
    "        start = start+12\n",
    "        if start == 12 :\n",
    "            start = 13\n",
    "        k = k + 12\n",
    "        time.sleep(1)\n",
    "    \n",
    "    time.sleep(2)\n",
    "    driver.find_element_by_xpath('//button[contains(@class,\"wpO6b \")]').click()\n",
    "    list = driver.find_elements_by_xpath('//div[contains(@class,\"XrOey\")]/a')\n",
    "    list[-1].click()\n",
    "    \n",
    "    my_list = followers_list() \n",
    "    \n",
    "    return followers"
   ]
  },
  {
   "cell_type": "code",
   "execution_count": 444,
   "metadata": {},
   "outputs": [],
   "source": [
    "search('foodtalkindia')\n",
    "# calling fn to find the followers which im following.\n",
    "mutual_foll = mutual_followers()"
   ]
  },
  {
   "cell_type": "code",
   "execution_count": null,
   "metadata": {},
   "outputs": [],
   "source": [
    "# Printing usernames of those followers.\n",
    "print('Followers are : ')\n",
    "for ele in mutual_foll:\n",
    "    if ele not in my_list:\n",
    "        print(\"              \",ele)"
   ]
  },
  {
   "cell_type": "markdown",
   "metadata": {},
   "source": [
    "## Check the story of ‘coding.ninjas’. Consider the following Scenarios and print error messages accordingly - <a id=\"q7\"/>\n",
    "1. If You have already seen the story.\n",
    "2. Or The user has no story.\n",
    "3. Or View the story if not yet seen."
   ]
  },
  {
   "cell_type": "code",
   "execution_count": 453,
   "metadata": {},
   "outputs": [
    {
     "name": "stdout",
     "output_type": "stream",
     "text": [
      "You have already checked the story of coding.ninjas\n"
     ]
    }
   ],
   "source": [
    "search('coding.ninjas')\n",
    "time.sleep(4)\n",
    "canvas_size_check = driver.find_element_by_tag_name(\"canvas\").get_attribute('height')\n",
    "if int(canvas_size_check) == 166 :\n",
    "    print('You have already checked the story of' , 'coding.ninjas')\n",
    "else :\n",
    "    view = driver.find_elements_by_xpath('//div[contains(@class,\"h5uC0\")]')\n",
    "    if len(view) == 0 :\n",
    "        print('No story exists')\n",
    "    else :\n",
    "        seeing_story = driver.find_element_by_xpath('//img[contains(@class,\"6q-tv\")]')\n",
    "        seeing_story.click()\n",
    "driver.back()"
   ]
  }
 ],
 "metadata": {
  "colab": {
   "collapsed_sections": [],
   "name": "InstaBot.ipynb",
   "provenance": []
  },
  "kernelspec": {
   "display_name": "Python 3",
   "language": "python",
   "name": "python3"
  },
  "language_info": {
   "codemirror_mode": {
    "name": "ipython",
    "version": 3
   },
   "file_extension": ".py",
   "mimetype": "text/x-python",
   "name": "python",
   "nbconvert_exporter": "python",
   "pygments_lexer": "ipython3",
   "version": "3.8.5"
  }
 },
 "nbformat": 4,
 "nbformat_minor": 1
}
